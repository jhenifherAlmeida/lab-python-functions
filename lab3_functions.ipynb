{
 "cells": [
  {
   "cell_type": "code",
   "execution_count": 6,
   "metadata": {},
   "outputs": [
    {
     "name": "stdout",
     "output_type": "stream",
     "text": [
      "Enter products that the customner wnats to order (choose from t-shirt, mug, hat, book, keychain )\n",
      "Products ordered by the costumer\n",
      "- hat\n",
      "- mug\n",
      "Enter the quantity of each product available:\n",
      "Enter products that the customner wnats to order (choose from t-shirt, mug, hat, book, keychain )\n",
      "Invalid product. Please choose from available products.\n",
      "(0, 0.0)\n",
      "Order statistics:\n",
      "Total Products Ordered: 0\n",
      "Percentage of products ordered: 0.00%\n",
      "Updating inventory\n"
     ]
    }
   ],
   "source": [
    "def initialze_inventory(products):\n",
    "    products = [ \"t-shirt\", \"mug\", \"hat\", \"book\", \"keychain\" ]\n",
    "\n",
    "    inventory = {}\n",
    "    print(\"Enter the quantity of each product available:\")\n",
    "    for product in products:\n",
    "        while True:\n",
    "            try:\n",
    "                quantity = int(input(f\"{product}: \"))\n",
    "                inventory[product] = quantity\n",
    "                break\n",
    "            except ValueError:\n",
    "                print('Please enter a valid number.')\n",
    "    return inventory\n",
    "\n",
    "def get_customer_orders():\n",
    "    products = [ \"t-shirt\", \"mug\", \"hat\", \"book\", \"keychain\"]\n",
    "    customer_orders = {'orders': set()}\n",
    "    print(\"Enter products that the customner wnats to order (choose from t-shirt, mug, hat, book, keychain )\")\n",
    "    while True:\n",
    "        item = input('Product name: ').strip().lower()\n",
    "        if item in products:\n",
    "            customer_orders['orders'].add(item)\n",
    "        else:\n",
    "            print(\"Invalid product. Please choose from available products.\")\n",
    "\n",
    "        another = input('Do you want to add another product? (yes/no):').strip().lower()\n",
    "        if another != 'yes':   \n",
    "            break    \n",
    "    return customer_orders\n",
    "\n",
    "customer_orders = get_customer_orders()\n",
    "   \n",
    "print('Products ordered by the costumer')\n",
    "for order in customer_orders['orders']:\n",
    "    print(f'- {order}')\n",
    "\n",
    "def update_inventory(customer_orders,inventory):\n",
    "    for product,quantity in inventory.item():\n",
    "        print(f'{product} : {quantity}')\n",
    "\n",
    "def calculate_order_statistics(customer_orders,products):\n",
    "    total_products_ordered = len(customer_orders['orders'])\n",
    "    percentage_ordered = (total_products_ordered * 100) / len(products)\n",
    "    order_status = (total_products_ordered, percentage_ordered )\n",
    "\n",
    "    print(order_status)\n",
    "    return(total_products_ordered, percentage_ordered)\n",
    "\n",
    "def print_order_statistics(order_statistics):\n",
    "    print(\"Order statistics:\")\n",
    "    print(f\"Total Products Ordered: {order_statistics[0]}\")\n",
    "    print(f\"Percentage of products ordered: {order_statistics[1]:.2f}%\")\n",
    "\n",
    "def print_update_inventory(inventory, customer_orders):\n",
    "    print(\"Updating inventory\")\n",
    "\n",
    "    for items in customer_orders[\"orders\"]:\n",
    "        if inventory[items] > 0:\n",
    "            inventory[items] -= 1\n",
    "            print(f\"{items} order processed.Remaining stock: {inventory[items]}\")\n",
    "        else:\n",
    "            print(f\"Sorry, {items} is out of stock.\")   \n",
    "\n",
    "def main():\n",
    "    products = [ \"t-shirt\", \"mug\", \"hat\", \"book\", \"keychain\" ]\n",
    "    inventory = initialze_inventory(products)\n",
    "    customer_orders = get_customer_orders()\n",
    "\n",
    "\n",
    "    order_statistics = calculate_order_statistics(customer_orders, products)\n",
    "    print_order_statistics(order_statistics)\n",
    "    print_update_inventory(inventory, customer_orders)\n",
    "\n",
    "main()    "
   ]
  },
  {
   "cell_type": "code",
   "execution_count": 7,
   "metadata": {},
   "outputs": [
    {
     "name": "stdout",
     "output_type": "stream",
     "text": [
      "Enter the quantity of each product available:\n"
     ]
    }
   ],
   "source": [
    "products = [ \"t-shirt\", \"mug\", \"hat\", \"book\", \"keychain\" ]\n",
    "inventory = initialze_inventory(products)"
   ]
  },
  {
   "cell_type": "code",
   "execution_count": 8,
   "metadata": {},
   "outputs": [
    {
     "data": {
      "text/plain": [
       "{'t-shirt': 1, 'mug': 1, 'hat': 1, 'book': 1, 'keychain': 1}"
      ]
     },
     "execution_count": 8,
     "metadata": {},
     "output_type": "execute_result"
    }
   ],
   "source": [
    "inventory"
   ]
  },
  {
   "cell_type": "code",
   "execution_count": 9,
   "metadata": {},
   "outputs": [
    {
     "name": "stdout",
     "output_type": "stream",
     "text": [
      "Enter products that the customner wnats to order (choose from t-shirt, mug, hat, book, keychain )\n"
     ]
    }
   ],
   "source": [
    "customer_orders = get_customer_orders()"
   ]
  },
  {
   "cell_type": "code",
   "execution_count": 10,
   "metadata": {},
   "outputs": [
    {
     "data": {
      "text/plain": [
       "{'orders': {'hat', 'mug'}}"
      ]
     },
     "execution_count": 10,
     "metadata": {},
     "output_type": "execute_result"
    }
   ],
   "source": [
    "customer_orders"
   ]
  },
  {
   "cell_type": "code",
   "execution_count": 12,
   "metadata": {},
   "outputs": [
    {
     "name": "stdout",
     "output_type": "stream",
     "text": [
      "Updating inventory\n",
      "hat order processed.Remaining stock: 0\n",
      "mug order processed.Remaining stock: 0\n"
     ]
    }
   ],
   "source": [
    "print_update_inventory(inventory , customer_orders)"
   ]
  },
  {
   "cell_type": "code",
   "execution_count": 13,
   "metadata": {},
   "outputs": [
    {
     "data": {
      "text/plain": [
       "{'t-shirt': 1, 'mug': 0, 'hat': 0, 'book': 1, 'keychain': 1}"
      ]
     },
     "execution_count": 13,
     "metadata": {},
     "output_type": "execute_result"
    }
   ],
   "source": [
    "inventory "
   ]
  }
 ],
 "metadata": {
  "kernelspec": {
   "display_name": "base",
   "language": "python",
   "name": "python3"
  },
  "language_info": {
   "codemirror_mode": {
    "name": "ipython",
    "version": 3
   },
   "file_extension": ".py",
   "mimetype": "text/x-python",
   "name": "python",
   "nbconvert_exporter": "python",
   "pygments_lexer": "ipython3",
   "version": "3.12.7"
  }
 },
 "nbformat": 4,
 "nbformat_minor": 2
}
